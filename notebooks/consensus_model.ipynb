{
 "cells": [
  {
   "cell_type": "code",
   "execution_count": 1,
   "metadata": {},
   "outputs": [
    {
     "name": "stderr",
     "output_type": "stream",
     "text": [
      "Using TensorFlow backend.\n"
     ]
    }
   ],
   "source": [
    "import numpy as np\n",
    "import pandas as pd\n",
    "import pickle\n",
    "from keras.preprocessing.text import Tokenizer\n",
    "from keras.preprocessing.sequence import pad_sequences\n",
    "from keras.models import Model, load_model\n",
    "from keras_self_attention import SeqSelfAttention\n",
    "import warnings\n",
    "warnings.filterwarnings('ignore')"
   ]
  },
  {
   "cell_type": "markdown",
   "metadata": {},
   "source": [
    "### Prepare Data"
   ]
  },
  {
   "cell_type": "code",
   "execution_count": 2,
   "metadata": {},
   "outputs": [],
   "source": [
    "# training data (needed because you need a tokenizer for the LSTM model to apply on new data)\n",
    "dataset = pd.read_csv(\"../data/train_valid/training_set.csv\", delimiter=\",\")\n",
    "X_train = dataset.iloc[:,0:1].values\n",
    "\n",
    "max_len = 100\n",
    "\n",
    "for p in range (X_train.shape[0]):\n",
    "  s = X_train[p,0]\n",
    "  s = s.replace(\"[nH]\",\"A\")\n",
    "  s = s.replace(\"Cl\",\"L\")\n",
    "  s = s.replace(\"Br\",\"R\")\n",
    "  s = s.replace(\"[C@]\",\"C\")\n",
    "  s = s.replace(\"[C@@]\",\"C\")\n",
    "  s = s.replace(\"[C@@H]\",\"C\")\n",
    "  s =[s[i:i+1] for i in range(0,len(s),1)]\n",
    "  s = \" \".join(s)\n",
    "  X_train[p,0] = s\n",
    "X_train = X_train[:,0]\n",
    "X_train = X_train.tolist()\n",
    "\n",
    "tokenizer = Tokenizer(num_words=max_len)\n",
    "tokenizer.fit_on_texts(X_train)"
   ]
  },
  {
   "cell_type": "code",
   "execution_count": 3,
   "metadata": {},
   "outputs": [
    {
     "data": {
      "text/plain": [
       "(3281, 1)"
      ]
     },
     "execution_count": 3,
     "metadata": {},
     "output_type": "execute_result"
    }
   ],
   "source": [
    "# load test file and define descriptors (you will need the file to have all descriptors)\n",
    "test_file = 'blockers_sampled.csv' # load your test set here\n",
    "dataset = pd.read_csv(test_file, delimiter=',')\n",
    "\n",
    "X_test_smi = dataset.iloc[:,0:1].values # change indices if needed\n",
    "X_test_rdkit = dataset.iloc[:,1:120] # change indices if needed\n",
    "X_test_morganfp = dataset.iloc[:,120:1144] # change indices if needed\n",
    "\n",
    "for p in range (X_test_smi.shape[0]):\n",
    "  s = X_test_smi[p,0]\n",
    "  s = s.replace(\"[nH]\",\"A\")\n",
    "  s = s.replace(\"Cl\",\"L\")\n",
    "  s = s.replace(\"Br\",\"R\")\n",
    "  s = s.replace(\"[C@]\",\"C\")\n",
    "  s = s.replace(\"[C@@]\",\"C\")\n",
    "  s = s.replace(\"[C@@H]\",\"C\")\n",
    "  s =[s[i:i+1] for i in range(0,len(s),1)]\n",
    "  s = \" \".join(s)\n",
    "  X_test_smi[p,0] = s\n",
    "X_test_smi = X_test_smi[:,0]  \n",
    "X_test_smi = X_test_smi.tolist()\n",
    "\n",
    "X_test_smi = tokenizer.texts_to_sequences(X_test_smi)\n",
    "X_test_smi = pad_sequences(X_test_smi, maxlen=max_len, padding='post')\n",
    "\n",
    "# df for saving consensus predictions\n",
    "consensus_df = dataset.iloc[:,0:1]\n",
    "consensus_df.shape"
   ]
  },
  {
   "cell_type": "markdown",
   "metadata": {},
   "source": [
    "### Random Forest Predictions"
   ]
  },
  {
   "cell_type": "code",
   "execution_count": 4,
   "metadata": {},
   "outputs": [],
   "source": [
    "# best performing rf model was based on rdkit descriptors\n",
    "pkl_file = open('rf_rdkit.pkl', 'rb')\n",
    "model = pickle.load(pkl_file)\n",
    "\n",
    "y_pred = model.predict(X_test_rdkit)\n",
    "y_pred_prob = model.predict_proba(X_test_rdkit).T[1]\n",
    "y_pred_prob = y_pred_prob.ravel()\n",
    "y_pred_prob = np.round(y_pred_prob, 2)\n",
    "\n",
    "consensus_df['rf_pred'] = y_pred.tolist()\n",
    "consensus_df['rf_pred_prob'] = y_pred_prob.tolist()\n",
    "\n",
    "pkl_file.close()"
   ]
  },
  {
   "cell_type": "markdown",
   "metadata": {},
   "source": [
    "### XGBoost Predictions"
   ]
  },
  {
   "cell_type": "code",
   "execution_count": 5,
   "metadata": {},
   "outputs": [],
   "source": [
    "# best performing xgb model was based on rdkit descriptors\n",
    "pkl_file = open('xgb_rdkit.pkl', 'rb')\n",
    "model = pickle.load(pkl_file)\n",
    "\n",
    "y_pred = model.predict(X_test_rdkit)\n",
    "y_pred_prob = model.predict_proba(X_test_rdkit).T[1]\n",
    "y_pred_prob = y_pred_prob.ravel()\n",
    "y_pred_prob = np.round(y_pred_prob, 2)\n",
    "\n",
    "consensus_df['xgb_pred'] = y_pred.tolist()\n",
    "consensus_df['xgb_pred_prob'] = y_pred_prob.tolist()\n",
    "\n",
    "pkl_file.close()"
   ]
  },
  {
   "cell_type": "markdown",
   "metadata": {},
   "source": [
    "### DNN Predictions"
   ]
  },
  {
   "cell_type": "code",
   "execution_count": 6,
   "metadata": {},
   "outputs": [],
   "source": [
    "# best performing dnn model was based on  morgan fingerprints\n",
    "pkl_file = open('dnn_morganfp.pkl', 'rb')\n",
    "model = pickle.load(pkl_file)\n",
    "\n",
    "predictions = model.predict(X_test_morganfp)\n",
    "y_pred = np.round(predictions,0)\n",
    "y_pred = y_pred.ravel()\n",
    "predictions = np.array(predictions).ravel()\n",
    "y_pred_prob = np.round(predictions, 2)\n",
    "\n",
    "consensus_df['dnn_pred'] = y_pred.tolist()\n",
    "consensus_df['dnn_pred_prob'] = y_pred_prob.tolist()\n",
    "\n",
    "pkl_file.close()"
   ]
  },
  {
   "cell_type": "markdown",
   "metadata": {},
   "source": [
    "### LSTM Predictions"
   ]
  },
  {
   "cell_type": "code",
   "execution_count": 7,
   "metadata": {},
   "outputs": [],
   "source": [
    "# the best performing lstm model was based on sequential self attention scheme\n",
    "model = load_model(\"lstm_attn_smiles.h5\", custom_objects=SeqSelfAttention.get_custom_objects())\n",
    "\n",
    "predictions = model.predict(X_test_smi)\n",
    "y_pred = np.round(predictions,0)\n",
    "y_pred = y_pred.ravel()\n",
    "predictions = np.array(predictions).ravel()\n",
    "y_pred_prob = np.round(predictions, 2)\n",
    "\n",
    "consensus_df['lstm_pred'] = y_pred.tolist()\n",
    "consensus_df['lstm_pred_prob'] = y_pred_prob.tolist()\n",
    "\n",
    "pkl_file.close()"
   ]
  },
  {
   "cell_type": "markdown",
   "metadata": {},
   "source": [
    "### Save"
   ]
  },
  {
   "cell_type": "code",
   "execution_count": 8,
   "metadata": {},
   "outputs": [
    {
     "data": {
      "text/plain": [
       "(3281, 11)"
      ]
     },
     "execution_count": 8,
     "metadata": {},
     "output_type": "execute_result"
    }
   ],
   "source": [
    "consensus_df['consensus_pred_prob'] = consensus_df[['rf_pred_prob','xgb_pred_prob','dnn_pred_prob', 'lstm_pred_prob']].mean(axis=1)\n",
    "consensus_df['consensus_pred'] = np.where(consensus_df['consensus_pred_prob']>=0.5, 1, 0)\n",
    "\n",
    "# save to file\n",
    "consensus_df.to_csv('blockers_sampled_predictions.csv', sep=',', index=None)\n",
    "consensus_df.shape"
   ]
  },
  {
   "cell_type": "code",
   "execution_count": null,
   "metadata": {},
   "outputs": [],
   "source": []
  }
 ],
 "metadata": {
  "kernelspec": {
   "display_name": "Python 3",
   "language": "python",
   "name": "python3"
  },
  "language_info": {
   "codemirror_mode": {
    "name": "ipython",
    "version": 3
   },
   "file_extension": ".py",
   "mimetype": "text/x-python",
   "name": "python",
   "nbconvert_exporter": "python",
   "pygments_lexer": "ipython3",
   "version": "3.6.10"
  }
 },
 "nbformat": 4,
 "nbformat_minor": 2
}
